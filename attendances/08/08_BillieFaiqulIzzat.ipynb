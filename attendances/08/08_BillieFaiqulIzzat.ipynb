{
 "cells": [
  {
   "cell_type": "markdown",
   "metadata": {},
   "source": [
    "Identitas Diri\n",
    "\n",
    "Nim : 2141720051\n",
    "\n",
    "Nama: Billie Faiqul Izzat"
   ]
  },
  {
   "cell_type": "markdown",
   "metadata": {
    "collapsed": true,
    "pycharm": {
     "name": "#%% md\n"
    }
   },
   "source": [
    "### Soal UTS 2021-2022\n",
    "Waktu: 90 menit\n",
    "\n",
    "Silakan mengerjakan soal di bawah ini, NIM ganjil untuk mengerjakan nomor.1 sedangkan nomor.2 untuk NIM genap. Tuliskan\n",
    "kode program pada cell yang telah disediakan dan jangan lupa untuk menjalankan hasil kode program yang telah dibuat."
   ]
  },
  {
   "cell_type": "markdown",
   "metadata": {
    "pycharm": {
     "name": "#%% md\n"
    }
   },
   "source": [
    "1. Buatlah sebuah program untuk menghitung biaya yang harus dikeluarkan oleh pembeli dalam sebuah toko dengan spesifikasi sebagai berikut\n",
    "    + Jumlah barang yang akan diinputkan belum diketahui jumlahnya\n",
    "    + Terdapat 3 buah inputan, jenis barang(minuman,makanan), nama, dan harga\n",
    "    + Ketika jumlah minuman adalah 3 buah, maka akan mendapatkan potongan harga sebesar 5% dari harga minuman.\n",
    "    + Ketika diakhir belanja seorang pembeli ditanya oleh kasir, apakah mau beli kantong plastic atau tidak. Jika mau, maka harus membayar Rp.200.\n",
    "    + Ketika total pembelian lebih besar sama dengan 1 juta, maka harus dikenai PPN 7%."
   ]
  },
  {
   "cell_type": "code",
   "execution_count": null,
   "metadata": {
    "pycharm": {
     "name": "#%%\n"
    }
   },
   "outputs": [],
   "source": [
    "// tulis jawaban di sini\n",
    "import java.util.Scanner;\n",
    "Scanner p = new Scanner(System.in);\n",
    "       boolean tambah = true;\n",
    "        String namaBarang, ulang;\n",
    "        int jenisBarang;\n",
    "        double harga;\n",
    "        int diskon = 0, ttlMinuman = 0, ttlMakanan = 0, ttlHarga = 0, ttlHargaMinuman = 0;\n",
    "\n",
    "        do{\n",
    "            System.out.print(\"Masukkan jenis Barang (0 = makanan ,1 = minuman): \");\n",
    "            jenisBarang = p.nextInt();\n",
    "            System.out.print(\"Masukkan Nama Barang : \");\n",
    "            namaBarang = p.nextLine();\n",
    "\n",
    "            p.nextLine();\n",
    "            \n",
    "            System.out.print(\"Masukkan Harga : \");\n",
    "             harga = p.nextDouble();\n",
    "             if (jenisBarang == 0){\n",
    "                 ttlMakanan++;\n",
    "             }else{\n",
    "                 ttlMinuman++;\n",
    "                 ttlHargaMinuman += harga;\n",
    "             }\n",
    "\n",
    "             ttlHarga += harga ;\n",
    "\n",
    "             System.out.print(\"Apakah akan melakukan transaksi lagi ? (y/t) : \");\n",
    "    ulang = p.next();\n",
    "    if (ulang.equalsIgnoreCase(\"y\")) {\n",
    "        tambah = true;\n",
    "    } else if (ulang.equalsIgnoreCase(\"t\")) {\n",
    "        tambah = false;\n",
    "    } else {\n",
    "        System.out.println(\"Input yang anda masukkan salah\");\n",
    "        System.exit(0);\n",
    "    }\n",
    "\n",
    "\n",
    "        }while (tambah);\n",
    "        System.out.println(\"total belanja anda : \" + harga);\n",
    "\n",
    "        System.out.print(\"Apakah pakai kantong plastik? (y/t) : \");\n",
    "         String kresek= p.next();\n",
    "        if (kresek.equalsIgnoreCase(\"y\")) {\n",
    "            ttlHarga += 200;\n",
    "        }else {\n",
    "            System.exit(0);\n",
    "        }\n",
    "        if(ttlHarga > 1000000){\n",
    "            System.out.println(\" Pembelian diatas 1jt PPN 7%\");\n",
    "            ttlHarga += (ttlHarga * 0.07);\n",
    "          }\n",
    "          System.out.println(\"Total Pembelian \" + ttlHarga);\n"
   ]
  },
  {
   "cell_type": "markdown",
   "metadata": {
    "pycharm": {
     "name": "#%% md\n"
    }
   },
   "source": [
    "2.\tSeorang yang akan membayar pajak perlu dihitung semua harta kekayaan atau penghasilan. Kriteria yang dapat dihitung adalah sebagai berikut\n",
    "    + Sebelum dihitung, wajib pajak ditanya terlebih dahulu apakah memiliki usaha atau tidak. Ketika memiliki usaha, maka perlu diinputkan penghasilan dalam 1 tahun berapa? Kemudian dikenai pajak sebesar 15%\n",
    "    + Terdapat inputan harta kekayaan yang perlu dinputkan, dengan setiap wajib pajak memiliki harta kekayaan yang berbeda-beda.\n",
    "    + Harta kekayaan berupa, benda bergerak(kendaraan,dll) ataupun kekayaan yang tidak bergerak(perhiasan, tanah, surat berharga, dll). Silakan diinputkan nama kendaraan ataupun perhiasaannya beserta nilai jual saat ini.\n",
    "    + Jika wajib pajak sudah berkeluarga, maka perlu ditanyakan tingkat pendidikan(SD,SMP,SMA,KULIAH). Ketika jumlah yang kuliah anaknya 1 dan 1 SMA dan total harta kekayaan lebih dari sama dengan 50 juta maka akan dipotong semua pajaknya 10%. Sedangkan tidak ada yang SMA ataupun KULIAH dan total harta kekayaan kurang dari 50 juta maka akan dipotong 5%."
   ]
  },
  {
   "cell_type": "code",
   "execution_count": null,
   "metadata": {
    "pycharm": {
     "name": "#%%\n"
    }
   },
   "outputs": [],
   "source": [
    "// tulis jawaban di sini\n"
   ]
  },
  {
   "cell_type": "markdown",
   "metadata": {
    "pycharm": {
     "name": "#%% md\n"
    }
   },
   "source": [
    "> **Kerjakan secara individu, segala bentuk yang mengarah kepada kecurangan akan mendapatkan nilai 0.**\n",
    ">\n",
    "> Selamat mengerjakan :)\n"
   ]
  }
 ],
 "metadata": {
  "kernelspec": {
   "display_name": "Java",
   "language": "java",
   "name": "java"
  },
  "language_info": {
   "codemirror_mode": "java",
   "file_extension": ".jshell",
   "mimetype": "text/x-java-source",
   "name": "Java",
   "pygments_lexer": "java",
   "version": "17+35-LTS-2724"
  }
 },
 "nbformat": 4,
 "nbformat_minor": 2
}
