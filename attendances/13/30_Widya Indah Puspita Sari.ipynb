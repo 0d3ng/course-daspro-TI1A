{
 "cells": [
  {
   "cell_type": "markdown",
   "metadata": {},
   "source": [
    "# JOBSHEET 13. Fungsi 1"
   ]
  },
  {
   "cell_type": "markdown",
   "metadata": {},
   "source": [
    "## Tujuan\n",
    "* Mahasiswa mampu memahami penggunaan fungsi static pada Java dengan parameter dan mengembalikan nilai.\n",
    "* Mahasiswa mampu membuat program menggunakan fungsi static dan mengeksekusi fungsi tersebut.\n"
   ]
  },
  {
   "cell_type": "markdown",
   "metadata": {},
   "source": [
    "## Alat dan Bahan\n",
    "* PC/Laptop\n",
    "* Browser\n",
    "* Koneksi internet\n",
    "* Anaconda3 + Java kernel (opsional)"
   ]
  },
  {
   "cell_type": "markdown",
   "metadata": {},
   "source": [
    "## Praktikum"
   ]
  },
  {
   "cell_type": "markdown",
   "metadata": {},
   "source": [
    "### Percobaan 1: Fungsi Void (tidak menggunakan return value)\n",
    "\n",
    "1.\tBuat fungsi **beriSalam** bertipe void yang digunakan untuk mencetak **“Halo! Selamat Pagi”**.\n",
    "![Gambar 1](images/1.1.png)"
   ]
  },
  {
   "cell_type": "markdown",
   "metadata": {},
   "source": [
    "2. Eksekusi atau panggil fungsi **beriSalam**.\n",
    "![Gambar 2](images/1.2.png)"
   ]
  },
  {
   "cell_type": "code",
   "execution_count": 2,
   "metadata": {},
   "outputs": [
    {
     "name": "stdout",
     "output_type": "stream",
     "text": [
      "Halo Selamat Pagi\r\n"
     ]
    }
   ],
   "source": [
    "// Tuliskan kode program Percobaan 1 Langkah 1 & 2\n",
    "static void beriSalam(){\n",
    "    System.out.println(\"Halo Selamat Pagi\");\n",
    "}\n",
    "beriSalam();"
   ]
  },
  {
   "cell_type": "markdown",
   "metadata": {},
   "source": [
    "3. Buat fungsi **beriUcapan** dengan sebuah parameter bertipe String.\n",
    "![Gambar 3](images/1.3.png)"
   ]
  },
  {
   "cell_type": "markdown",
   "metadata": {},
   "source": [
    "4. Buatlah variabel **salam** bertipe String kemudian eksekusi atau panggil fungsi **beriUcapan** dengan mengisi parameternya dengan variable **salam** yang sudah dibuat.\n",
    "![Gambar 3](images/1.4.png)"
   ]
  },
  {
   "cell_type": "code",
   "execution_count": 3,
   "metadata": {},
   "outputs": [
    {
     "name": "stdout",
     "output_type": "stream",
     "text": [
      "Halo Selamat Pagi\n",
      "Selamat datang di pemograman Java\n"
     ]
    }
   ],
   "source": [
    "// Tuliskan kode program Percobaan 1 Langkah 1, 2, 3 & 4\n",
    "static void beriSalam(){\n",
    "    System.out.println(\"Halo Selamat Pagi\");\n",
    "}\n",
    "\n",
    "static void beriUcapan(String ucapan){\n",
    "    System.out.println(ucapan);\n",
    "}\n",
    "\n",
    "beriSalam();\n",
    "String salam = \"Selamat datang di pemograman Java\";\n",
    "beriUcapan(salam);"
   ]
  },
  {
   "cell_type": "markdown",
   "metadata": {},
   "source": [
    "#### Pertanyaan\n",
    "1. Jelaskan perbedaan fungsi **beriSalam** dan **beriUcapan** pada praktikum 1!\n",
    "\n",
    "Fungsi **beriSalam** tidak memiliki parameter, dan terdapat pesan yang langsung di hardcode yaitu **System.out.println(\"Halo Selamat Pagi\");**. Sedangkan pada fungsi **beriUcapan** memiliki parameter **ucapan** yang bertipe data String, serta langsung di tampilkan."
   ]
  },
  {
   "cell_type": "markdown",
   "metadata": {},
   "source": [
    "2. Jelaskan cara pemanggilan sebuah fungsi void yang berparameter dan tanpa parameter!\n",
    "\n",
    "Cara pemanggilan fungsi void yang berparameter :\n",
    "- menulisakn : nama fungsi(nilai dari parameter);\n",
    "- pemanggilan void yang berparameter seperti berikut : beriSalam(\"Assalamuallaikum\");\n",
    "\n",
    "Cara pemanggilan tanpa parameter :\n",
    "- menuliskan : nama fungsi();\n",
    "- Contoh pemanggilan fungsi tanpa parameter : beriSalam();"
   ]
  },
  {
   "cell_type": "markdown",
   "metadata": {},
   "source": [
    "### Percobaan 2: Fungsi dengan return value (Bukan void)\n",
    "Pada Percobaan 2, kode program yang dibuat digunakan untuk menghitung luas persegi dengan membuat fungsi **luasPersegi** yang menggunakan parameter.\n",
    "1. Buat fungsi **luasPersegi**  untuk menghitung luas persegi yang mengembalikan nilai luas (int) dan parameter masukan sisi (int).\n",
    "![Gambar 4](images/2.1.png)"
   ]
  },
  {
   "cell_type": "markdown",
   "metadata": {},
   "source": [
    "2.\tEksekusi atau panggil fungsi luasPersegi dengan cara membuat variabel baru yaitu **luasan**, kemudian isi variabel tersebut dengan memanggil fungsi luasPersegi dan mengisi parameter sisi. Selanjutnya cetak variabel luasan untuk menampilkan luas persegi panjang\n",
    "![Gambar 5](images/2.2.png)"
   ]
  },
  {
   "cell_type": "code",
   "execution_count": 9,
   "metadata": {},
   "outputs": [
    {
     "name": "stdout",
     "output_type": "stream",
     "text": [
      "Luas Persegi dengan sisi 5 = 25\r\n"
     ]
    }
   ],
   "source": [
    "// Tuliskan kode program Percobaan 2 Langkah 1 & 2\n",
    "static int luasPersegi(int sisi){\n",
    "    int luas = sisi * sisi;\n",
    "    return luas;\n",
    "}\n",
    "\n",
    "int luasan = luasPersegi(5);\n",
    "System.out.println(\"Luas Persegi dengan sisi 5 = \" + luasan);"
   ]
  },
  {
   "cell_type": "markdown",
   "metadata": {},
   "source": [
    "#### Pertanyaan\n",
    "1. jelaskan mengapa ketika memanggil fungsi **luasPersegi** harus membuat variabel baru yaitu luasan?\n",
    "\n",
    "karena ada nilai yang di kembalikan maka nilai **luasPersegi** di tampung terlebih dahulu di variabel **luasan**"
   ]
  },
  {
   "cell_type": "markdown",
   "metadata": {},
   "source": [
    "2. Jelaskan kegunaan **return luas** pada percobaan 2 diatas!\n",
    "\n",
    "Kegunaannya adalah untuk mengembalikan nilai dari variabel **luas** kepada fungsi **luasPersegi**"
   ]
  },
  {
   "cell_type": "markdown",
   "metadata": {},
   "source": [
    "3. Modifikasilah program di percobaan 2, dengan membuat panjang **sisi** sebagai inputan!"
   ]
  },
  {
   "cell_type": "code",
   "execution_count": 7,
   "metadata": {},
   "outputs": [
    {
     "name": "stdout",
     "output_type": "stream",
     "text": [
      "Masukkan panjang sisi : 5\n",
      "Luas Persegi dengan sisi 5 = 25\n"
     ]
    }
   ],
   "source": [
    "// Tuliskan jawaban nomor 3\n",
    "import java.util.Scanner;\n",
    "static int luasPersegi(int sisi){\n",
    "    int luas = sisi * sisi;\n",
    "    return luas;\n",
    "}\n",
    "\n",
    "int s;\n",
    "Scanner sc = new Scanner(System.in);\n",
    "System.out.print(\"Masukkan panjang sisi : \");\n",
    "s = sc.nextInt();\n",
    "int luasan = luasPersegi(s);\n",
    "System.out.println(\"Luas Persegi dengan sisi 5 = \" + luasan);"
   ]
  },
  {
   "cell_type": "markdown",
   "metadata": {},
   "source": [
    "### Percobaan 3: Fungsi dapat meng-CALL Fungsi Lain\n",
    "Pada Percobaan 3, kode program yang dibuat digunakan untuk mengimplementasikan bahwa fungsi dapat meng-CALL fungsi yang lain. Dimana dalam percobaan ini terdapat fungsi **Kali dan Kurang**. \n",
    "1. Buatlah fungsi **Kali** yang mengembalikan nilai H (int) dan parameter masukan C dan D (int).\n",
    "![Gambar 9](images/3.1.png)"
   ]
  },
  {
   "cell_type": "markdown",
   "metadata": {},
   "source": [
    "2.\tBuatlah fungsi **Kurang** yang mengembalikan nilai X (int) dan parameter masukan A dan B (int) dan memanggil fungsi Kali.\n",
    "![Gambar 10](images/3.2.png)"
   ]
  },
  {
   "cell_type": "markdown",
   "metadata": {},
   "source": [
    "3. Lakukan import class Scanner sebagai inputan di langkah selajutnya."
   ]
  },
  {
   "cell_type": "markdown",
   "metadata": {},
   "source": [
    "4. Eksekusi atau panggil fungsi **Kurang** .\n",
    "![Gambar 11](images/3.4.png)"
   ]
  },
  {
   "cell_type": "code",
   "execution_count": 22,
   "metadata": {},
   "outputs": [
    {
     "name": "stdout",
     "output_type": "stream",
     "text": [
      "Masukkan nilai 1 : 5\n",
      "Masukkan nilai 2 : 4\n",
      "Hasil akhir adalah 22\n"
     ]
    }
   ],
   "source": [
    "// Tuliskan kode program Percobaan 3 Langkah 1, 2, 3 & 4\n",
    "import java.util.Scanner;\n",
    "static int Kali(int C, int D){\n",
    "    int H;\n",
    "    H = (C + 10) % (D + 19); // bilangan yang paling kecil yang dimodulus nanti hasilnya bilang itu sendiri\n",
    "    return H;\n",
    "}\n",
    "\n",
    "static int Kurang(int A, int B){\n",
    "    int X;\n",
    "    A = A + 7;\n",
    "    B = B + 4;\n",
    "    X = Kali(A, B);\n",
    "    return X;\n",
    "}\n",
    "\n",
    "int nilai1, nilai2;\n",
    "Scanner input = new Scanner(System.in);\n",
    "System.out.print(\"Masukkan nilai 1 : \");\n",
    "nilai1 = input.nextInt();\n",
    "System.out.print(\"Masukkan nilai 2 : \");\n",
    "nilai2 = input.nextInt();\n",
    "int hasil = Kurang(nilai1, nilai2);\n",
    "System.out.println(\"Hasil akhir adalah \" + hasil);\n",
    "\n"
   ]
  },
  {
   "cell_type": "markdown",
   "metadata": {},
   "source": [
    "#### Pertanyaan\n",
    "1. Modifikasilah percobaan diatas dimana di fungsi **Kali** dapat memanggil fungsi **Kurang** kemudian eksekusi atau panggil fungsi Kali"
   ]
  },
  {
   "cell_type": "code",
   "execution_count": 9,
   "metadata": {},
   "outputs": [
    {
     "name": "stdout",
     "output_type": "stream",
     "text": [
      "Masukkan nilai 1 : 5\n",
      "Masukkan nilai 2 : 4\n",
      "Hasil akhir adalah 22\n"
     ]
    }
   ],
   "source": [
    "// Tuliskan jawaban nomor 1\n",
    "import java.util.Scanner;\n",
    "static int Kurang(int C, int D){\n",
    "    int H;\n",
    "    H = (C + 10) % (D + 19); // bilangan yang paling kecil yang dimodulus nanti hasilnya bilang itu sendiri\n",
    "    return H;\n",
    "}\n",
    "\n",
    "static int Kali(int A, int B){\n",
    "    int X;\n",
    "    A = A + 7;\n",
    "    B = B + 4;\n",
    "    X = Kurang(A, B);\n",
    "    return X;\n",
    "}\n",
    "\n",
    "int nilai1, nilai2;\n",
    "Scanner input = new Scanner(System.in);\n",
    "System.out.print(\"Masukkan nilai 1 : \");\n",
    "nilai1 = input.nextInt();\n",
    "System.out.print(\"Masukkan nilai 2 : \");\n",
    "nilai2 = input.nextInt();\n",
    "int hasil = Kali(nilai1, nilai2);\n",
    "System.out.println(\"Hasil akhir adalah \" + hasil);\n",
    "\n",
    "\n"
   ]
  },
  {
   "cell_type": "markdown",
   "metadata": {},
   "source": [
    "2. Jelaskan alur jalannya program di percobaan 3 mulai dari input sampai keluar output!\n",
    "\n",
    "- Pertama, user akan di suruh untuk meemasukkan nilai 1 dan nilai 2\n",
    "- Setelah memasukkan nilai tersebut maka akan di  proses untuk memunculkan hasilnya.\n",
    "- **int hasil = Kurang(nilai1, nilai2);** digunakan untuk menentukan hasilnya. \n",
    "- Kemudian pada fungsi **Kurang** rumus atau operasi aritmatika nya adalah sebagai berikut : (nilai 1 + 7) (nilai 2 + 4). yang di maksud nilai 1 dan 2 adalah input user tadi yang sudah kita masukkan di awal. Misalnya (5 + 7) (4 + 4). Maka nilainya akan menjadi seperti ini : 12 8\n",
    "- Setelah itu Pada fungsi **Kali** terdapat operasi modulus. **(C + 10) % (D + 19)** C dan D merupakan nilai dari penjumlahan bilangan di fungsi **Kurang** tadi yaitu 12 dan 8.\n",
    "- Maka (12 + 10)  % (8 +19) ==> 22 % 28 ==> hasilnya adalah 22, karena bilangan yang paling kecil yang di modulus itulah hasil akhirnya, atau bilangan itu sendiri.\n",
    "- jadi nanti output yang akan di tampilkan adalah 22."
   ]
  },
  {
   "cell_type": "markdown",
   "metadata": {},
   "source": [
    "### Percobaan 4: Mengubah Program Tidak Menggunakan Fungsi dan Menggunakan Fungsi\n",
    "Pada Percobaan 4, kode program yang dibuat digunakan untuk menghitung luas persegi panjang dan volume balok tanpa menggunakan fungsi dan dengan menggunakan fungsi.\n",
    "1. Import dan deklarasikan Scanner dengan nama **input**\n",
    "![Gambar 9](images/4.1.png)"
   ]
  },
  {
   "cell_type": "markdown",
   "metadata": {},
   "source": [
    "2. Buatlah inputan panjang, lebar, dan tinggi \n",
    "![Gambar 10](images/4.2.png)"
   ]
  },
  {
   "cell_type": "markdown",
   "metadata": {},
   "source": [
    "3. Hitung luas persegi panjang dan volume balok\n",
    "![Gambar 10](images/4.3.png)"
   ]
  },
  {
   "cell_type": "code",
   "execution_count": 24,
   "metadata": {},
   "outputs": [
    {
     "name": "stdout",
     "output_type": "stream",
     "text": [
      "Masukkan panjang : 10\n",
      "Masukkan lebar : 5\n",
      "Masukkan tingg : 12\n",
      "Luas Persegi panjang adalah : 50\n",
      "Volume balok adalah : 600\n"
     ]
    }
   ],
   "source": [
    "// Tuliskan kode program Percobaan 4 Langkah 1, 2, & 3\n",
    "import java.util.Scanner;\n",
    "Scanner input = new Scanner(System.in);\n",
    "\n",
    "int p, l, t, L, vol;\n",
    "\n",
    "System.out.print(\"Masukkan panjang : \");\n",
    "p = input.nextInt();\n",
    "System.out.print(\"Masukkan lebar : \");\n",
    "l = input.nextInt();\n",
    "System.out.print(\"Masukkan tingg : \");\n",
    "t = input.nextInt();\n",
    "\n",
    "L = p * l;\n",
    "System.out.println(\"Luas Persegi panjang adalah : \" + L);\n",
    "\n",
    "vol = p * l * t;\n",
    "System.out.println(\"Volume balok adalah : \" + vol);"
   ]
  },
  {
   "cell_type": "markdown",
   "metadata": {},
   "source": [
    "4. Program menghitung luas persegi dan volume balok diatas jika dibuatkan fungsi maka terdapat 3 fungsi yaitu hitungLuas, hitungVolume dan fungsi main, seperti dibawah ini:\n",
    "\n",
    "Fungsi hitungLuas\n",
    "\n",
    "![Gambar 10](images/4.4Luas.png)\n",
    "\n",
    "Fungsi hitungVolume\n",
    "![Gambar 10](images/4.4Volume.png)\n",
    "\n"
   ]
  },
  {
   "cell_type": "markdown",
   "metadata": {},
   "source": [
    "5. Eksekusi/panggil fungsi **hitungLuas** dan **hitungVolume**\n",
    "\n",
    "![Gambar 10](images/4.5.png)"
   ]
  },
  {
   "cell_type": "code",
   "execution_count": 6,
   "metadata": {},
   "outputs": [
    {
     "name": "stdout",
     "output_type": "stream",
     "text": [
      "Masukkan panjang : 10\n",
      "Masukkan lebar : 5\n",
      "Masukkan tinggi : 12\n",
      "Luas Persegi panjang adalah : 50\n",
      "Volume Balok adalah : 600\n"
     ]
    }
   ],
   "source": [
    "// Tuliskan kode program Percobaan 4 Langkah 1, 2, & 3\n",
    "static int hitungLuas(int pjg, int lbr){\n",
    "    int Luas = pjg * lbr;\n",
    "    return Luas;\n",
    "}\n",
    "\n",
    "static int hitungVolume(int tinggi, int a, int b){\n",
    "    int volume = hitungLuas(a,b) * tinggi;\n",
    "    return volume;\n",
    "}\n",
    "\n",
    "import java.util.Scanner;\n",
    "Scanner input = new Scanner(System.in);\n",
    "int p, l, t, L, vol;\n",
    "System.out.print(\"Masukkan panjang : \");\n",
    "p = input.nextInt();\n",
    "System.out.print(\"Masukkan lebar : \");\n",
    "l = input.nextInt();\n",
    "System.out.print(\"Masukkan tinggi : \");\n",
    "t = input.nextInt();\n",
    "\n",
    "L = hitungLuas(p, l);\n",
    "System.out.println(\"Luas Persegi panjang adalah : \" + L);\n",
    "\n",
    "vol = hitungVolume(t, p, l);\n",
    "System.out.println(\"Volume Balok adalah : \" + vol);"
   ]
  },
  {
   "cell_type": "markdown",
   "metadata": {},
   "source": [
    "#### Pertanyaan\n",
    "1. Jelaskan kegunaan parameter yang terdapat didalam fungsi hitungLuas dan hitungVolume!\n",
    "\n",
    "Parameter tersebut kegunaannya sama yaitu sebagai variabel penampung untuk nilai inputan fungsi **hitungLuas** dan **hitungVolume**. Sehingga fungsi tersebut dapat menghasilkan hasil yang dinamis atau dapat berubah-ubah setiap fungsi itu di panggil."
   ]
  },
  {
   "cell_type": "markdown",
   "metadata": {},
   "source": [
    "2. Setelah melakukan percobaan 4, menurut anda manakah program yg lebih efisien apakah menggunakan fungsi atau tanpa fungsi? Jelaskan!\n",
    "\n",
    "Menurut saya lebih efisien yang menggunakan fungsi, alasannya karena lebih terstruktur dan terlihat kode program lebih terlihat rapi."
   ]
  },
  {
   "cell_type": "markdown",
   "metadata": {},
   "source": [
    "### Percobaan 5: Fungsi Menggunakan Array dan Variabel Global\n",
    "Pada Percobaan 5, kode program yang dibuat digunakan untuk menghitung total nilai yang ada didalam array dengan membuat 3 fungsi yaitu isiarray, hitTol, dan tampilArray.\n",
    "1. Buatlah **variable global total dan i** bertipe int\n",
    "![Gambar 9](images/5.1pertama.png)"
   ]
  },
  {
   "cell_type": "markdown",
   "metadata": {},
   "source": [
    "2. Buatlah fungsi **isiarray** bertipe int dengan parameter angka bertipe int \n",
    "\n",
    "![Gambar 10](images/5.1.png)"
   ]
  },
  {
   "cell_type": "markdown",
   "metadata": {},
   "source": [
    "3. Buatlah fungsi **tampilArray** bertipe **void** dengan parameter data array **arr** bertipe int\n",
    "\n",
    "![Gambar 10](images/5.2.png)"
   ]
  },
  {
   "cell_type": "markdown",
   "metadata": {},
   "source": [
    "4. Buatlah fungsi **hitTot** bertipe int dengan parameter data array **arr** bertipe int\n",
    "\n",
    "![Gambar 10](images/5.3.png)"
   ]
  },
  {
   "cell_type": "markdown",
   "metadata": {},
   "source": [
    "5. Import dan deklarasikan Scanner dengan nama **input**\n",
    "\n",
    "![Gambar 10](images/4.1.png)"
   ]
  },
  {
   "cell_type": "markdown",
   "metadata": {},
   "source": [
    "6. Eksekusi atau panggil ketiga fungsi yaitu **isiarray, tampilArray, dan hitTot**, kemudian jalankan program!\n",
    "\n",
    "![Gambar 10](images/5.6.png)"
   ]
  },
  {
   "cell_type": "code",
   "execution_count": 52,
   "metadata": {},
   "outputs": [
    {
     "name": "stdout",
     "output_type": "stream",
     "text": [
      "Masukkan jumlah data yang ingin anda inputkan : 2\n",
      "Masukkan data ke-0 :1\n",
      "Masukkan data ke-1 :2\n",
      "Nilai yang anda inputkan ke- 0\n",
      "1\n",
      "Nilai yang anda inputkan ke- 1\n",
      "2\n",
      "Total nilai = 3\n"
     ]
    }
   ],
   "source": [
    "// Tuliskan kode program Percobaan 4 Langkah 1 s/d 6\n",
    "import java.util.Scanner;\n",
    "static int total = 0, i;\n",
    "\n",
    "static int[] isiarray(int angka){\n",
    "    Scanner sc = new Scanner(System.in);\n",
    "    int array[] = new int[angka];\n",
    "    for(int i = 0; i < array.length; i++){\n",
    "        System.out.printf(\"Masukkan data ke-%d :\",i);\n",
    "        array[i] = sc.nextInt();\n",
    "    }\n",
    "    return array;\n",
    "}\n",
    "\n",
    "static void tampilArray(int[] arr){\n",
    "    for(int i = 0; i < arr.length; i++){\n",
    "        System.out.println(\"Nilai yang anda inputkan ke- \" + i);\n",
    "    System.out.println(arr[i]);\n",
    "    }\n",
    "    \n",
    "}\n",
    "\n",
    "static int hitTot(int[] arr){\n",
    "    for(int i = 0; i < arr.length; i++){\n",
    "        total += arr[i];\n",
    "    }\n",
    "    return total;\n",
    "}\n",
    "\n",
    " Scanner sc = new Scanner(System.in);\n",
    "System.out.print(\"Masukkan jumlah data yang ingin anda inputkan : \");\n",
    "int jum = input.nextInt();\n",
    "int []dataArray = isiarray(jum);\n",
    "tampilArray(dataArray);\n",
    "total = hitTot(dataArray);\n",
    "System.out.println(\"Total nilai = \" + total);"
   ]
  },
  {
   "cell_type": "markdown",
   "metadata": {},
   "source": [
    "### Pertanyaan\n",
    "1. Jelaskan mengapa fungsi tampil array dibuat bertipe void, sedangkan isiarray dan hitTot bertipe int!\n",
    "\n",
    "Karena pada fungsi **tampil array** tidak memerlukan mengembalikan nilai yang menggunakan perintah **return**. Jadi fungsi tersebut menggunakan **void**. Sedangkan fungsi **isiarray dan hitTot** bertipe int dikarenakan memerlukan pengembalian nilai yang mengharuskan menggunakan perintah **return**, kemudian jika menggunakan **return** otomatis tidak bisa menggunakan **void** tetapi menggunakan tipe data primitif seperti int."
   ]
  },
  {
   "cell_type": "markdown",
   "metadata": {},
   "source": [
    "2. Menurut pendapat anda apakah fugsi isiarray dan hitTot dapat diganti dengan tipe void? Jelaskan dan buktikan dengan program!"
   ]
  },
  {
   "cell_type": "code",
   "execution_count": 8,
   "metadata": {},
   "outputs": [
    {
     "name": "stdout",
     "output_type": "stream",
     "text": [
      "Masukkan jumlah data yang ingin anda inputkan : 4\n",
      "Masukkan data ke-0 :9\n",
      "Masukkan data ke-1 :8\n",
      "Masukkan data ke-2 :7\n",
      "Masukkan data ke-3 :6\n",
      "Nilai yang anda inputkan ke- 0\n",
      "9\n",
      "Nilai yang anda inputkan ke- 1\n",
      "8\n",
      "Nilai yang anda inputkan ke- 2\n",
      "7\n",
      "Nilai yang anda inputkan ke- 3\n",
      "6\n",
      "Total nilai = 30\n"
     ]
    }
   ],
   "source": [
    "// Tuliskan jawaban nomor 2\n",
    "// Tuliskan kode program Percobaan 4 Langkah 1 s/d 6\n",
    "import java.util.Scanner;\n",
    "static int total = 0, i;\n",
    "\n",
    "static void isiarray(int array[]){\n",
    "    Scanner sc = new Scanner(System.in);\n",
    "    for(int i = 0; i < array.length; i++){\n",
    "        System.out.printf(\"Masukkan data ke-%d :\",i);\n",
    "        array[i] = sc.nextInt();\n",
    "    }\n",
    "}\n",
    "\n",
    "static void tampilArray(int[] arr){\n",
    "    for(int i = 0; i < arr.length; i++){\n",
    "        System.out.println(\"Nilai yang anda inputkan ke- \" + i);\n",
    "        System.out.println(arr[i]);\n",
    "    }\n",
    "    \n",
    "}\n",
    "\n",
    "static void hitTot(int[] arr){\n",
    "    for(int i = 0; i < arr.length; i++){\n",
    "        total += arr[i];\n",
    "    }\n",
    "    System.out.printf(\"Total nilai = %d\\n\", total);\n",
    "}\n",
    "\n",
    "Scanner sc = new Scanner(System.in);\n",
    "System.out.print(\"Masukkan jumlah data yang ingin anda inputkan : \");\n",
    "int jum = sc.nextInt();\n",
    "int []dataArray = new int[jum];\n",
    "isiarray(dataArray);\n",
    "tampilArray(dataArray);\n",
    "hitTot(dataArray);\n"
   ]
  },
  {
   "cell_type": "markdown",
   "metadata": {},
   "source": [
    "Penjelasan jawaban no 2\n",
    "\n",
    "Bisa diganti menggunakan void.\n",
    "Fungsi **isiarray dan hitTot** dapat diganti menggunakan **void**, dengan menghapus peintah **return total**, kemudian digantikan dengan perintah untuk menampilkan nilai dari variabel **total**. Kemudian di fungsi **isiarray** menghapus perintah **return array**, kemudian mengganti parameter **angka** dengan **array**. Input array juga di hilangkan. Kemudian pada akhir program di call **isiarray(dataArray)**."
   ]
  },
  {
   "cell_type": "markdown",
   "metadata": {},
   "source": [
    "## Tugas"
   ]
  },
  {
   "cell_type": "markdown",
   "metadata": {},
   "source": [
    "1. Buatlah sebuah static method yang bernama Max3(int bil1, int bil2, int bil3) yang menerima 3 buah parameter bilangan integer dan mengembalikan sebuah bilangan integer yang merupakan nilai maksimum diantara ketiga bilangan tersebut. "
   ]
  },
  {
   "cell_type": "code",
   "execution_count": 12,
   "metadata": {},
   "outputs": [
    {
     "name": "stdout",
     "output_type": "stream",
     "text": [
      "Nilai Maximum Pertama :\n",
      "16\n",
      "Nilai Maximum Kedua :\n",
      "225\n",
      "Nilai Maximum Ketiga :\n",
      "300\n"
     ]
    }
   ],
   "source": [
    "// Tuliskan jawaban nomor 1\n",
    "static int Max3(int bil1, int bil2, int bil3) {\n",
    "    int max = 0;\n",
    "\n",
    "    if (bil1 > bil2 && bil1 > bil3) {\n",
    "      max = bil1;\n",
    "    } else if (bil2 > bil1 && bil2 > bil3) {\n",
    "      max = bil2;\n",
    "    } else {\n",
    "      max = bil3;\n",
    "    }\n",
    "    \n",
    "    return max;\n",
    "}\n",
    "\n",
    "System.out.println(\"Nilai Maximum Pertama :\");\n",
    "System.out.println(Max3(4, 16, 8));\n",
    "System.out.println(\"Nilai Maximum Kedua :\");\n",
    "System.out.println(Max3(225, 125, 25));\n",
    "System.out.println(\"Nilai Maximum Ketiga :\");\n",
    "System.out.println(Max3(100, 200, 300));"
   ]
  },
  {
   "cell_type": "markdown",
   "metadata": {},
   "source": [
    "Penjelasan :\n",
    "\n",
    "- Terdapat fungsi max3\n",
    "- **if (bil1 > bil2 && bil1 > bil3)** berfungsi untuk menyeleksi nilai dari variabel **\"bil1 lebih besar dari bil2\"** dan jika **\"bil1 lebih besar dari bil3\"** maka nilai dari bil yang terbesar akan di masukkan kedalam variabel \"max\". di program tersebut digunakan untuk menampung bil1 sebagai nilai max.\n",
    "- **else if (bil2 > bil1 && bil2 > bil3)** berfungsi untuk menyeleksi nilai dari variabel **bil2 lebih besar dari bil1 dan bil2 lebih besar dari bil3** bila kondisi terpenuhi maka akan di simpan kedalam variabel \"max\". di kode program diatas nilai dari bil2 yang paling besar. Maka nilai dari bil2 dimasukkan di variabel \"max\".\n",
    "- **System.out.println(Max3(4, 16, 8));\n",
    "    System.out.println(Max3(225, 125, 25));\n",
    "    System.out.println(Max3(100, 200, 300));**\n",
    "    Merupakan nilai dari setiap bil1, bil2, bil3.\n",
    "- Kemudian setelah kondisi terpenuhi maka nilai dari bil1/bil2/bil3 tersebut di tampilkan.\n",
    "\n"
   ]
  },
  {
   "cell_type": "markdown",
   "metadata": {},
   "source": [
    "2. Disebuah restoran terdapat 3 menu yang dijual yaitu nasi goreng, soto, dan sate. Harga nasi goreng Rp. 20.000, soto Rp. 15.000, dan sate Rp. 25.000. Restoran tersebut buka dari hari senin sampai jumat. Berikut ini merupakan tabel pejualan perhari untuk masing-masing menu di restoran tersebut dari hari senin sampai jumat\n",
    "![Gambar 13](images/soal3.png)\n",
    "\n",
    "Buatlah Fungsi sebagai berikut:\n",
    " * Fungsi menampilkan menu favorit di hari selasa dan jumat (menu favorit diasumsikan adalah menu yang paling banyak terjual di hari tersebut)\n",
    " * Fungsi untuk menghitung pemasukan restoran tersebut mulai hari senin sampai jumat.\n",
    " * Fungsi untuk menghitung berapa porsi yang terjual untuk masing-masing menu yaitu nasi goreng, soto, dan sate mulai senin sampai jumat."
   ]
  },
  {
   "cell_type": "code",
   "execution_count": 1,
   "metadata": {},
   "outputs": [
    {
     "name": "stdout",
     "output_type": "stream",
     "text": [
      "Menu favorit di Selasa: Soto\n",
      "Menu favorit di Jumat: Nasi Goreng\n",
      "----------------\n",
      "Pemasukan Restoran: Rp.8625000\n",
      "----------------\n",
      "Porsi penjualan Nasi Goreng: 164\n",
      "Porsi penjualan Soto: 143\n",
      "Porsi penjualan Sate: 128\n"
     ]
    }
   ],
   "source": [
    "// Tuliskan jawaban nomor 2\n",
    "int[][] penjualan = { { 20, 15, 35, 24, 70 }, { 30, 40, 10, 28, 35 }, { 5, 10, 50, 48, 15 }, };\n",
    "\n",
    "String[] namaMenu = { \"Nasi Goreng\", \"Soto\", \"Sate\", };\n",
    "\n",
    "int hargaNasiGoreng = 20000;\n",
    "int hargaSoto = 15000;\n",
    "int hargaSate = 25000;\n",
    "\n",
    "static void menuFavSelasaJumat() {\n",
    "int kolomSelasa = 1;\n",
    "int kolomJumat = 4;\n",
    "int penjualanMaxSelasa = 0;\n",
    "int penjualanMaxJumat = 0;\n",
    "int barisFavDiSelasa = 0;\n",
    "int barisFavDiJumat = 0;\n",
    "\n",
    "for (int baris = 0; baris < penjualan.length; baris++) {\n",
    "  if (penjualan[baris][kolomSelasa] > penjualanMaxSelasa) {\n",
    "    penjualanMaxSelasa = penjualan[baris][kolomSelasa];\n",
    "    barisFavDiSelasa = baris;\n",
    "  }\n",
    "\n",
    "  if (penjualan[baris][kolomJumat] > penjualanMaxJumat) {\n",
    "    penjualanMaxJumat = penjualan[baris][kolomJumat];\n",
    "    barisFavDiJumat = baris;\n",
    "  }\n",
    "}\n",
    "\n",
    "System.out.println(\"Menu favorit di Selasa: \" + namaMenu[barisFavDiSelasa]);\n",
    "System.out.println(\"Menu favorit di Jumat: \" + namaMenu[barisFavDiJumat]);\n",
    "}\n",
    "\n",
    "static void pemasukanRestoran() {\n",
    "int totalPemasukan = 0;\n",
    "\n",
    "for (int baris = 0; baris < penjualan.length; baris++) {\n",
    "  int harga = switch (baris) {\n",
    "    case 0 -> hargaNasiGoreng;\n",
    "    case 1 -> hargaSoto;\n",
    "    case 2 -> hargaSate;\n",
    "    default -> 0;\n",
    "  };\n",
    "\n",
    "  for (int kolom = 0; kolom < penjualan[baris].length; kolom++) {\n",
    "    totalPemasukan += penjualan[baris][kolom] * harga;\n",
    "  }\n",
    "}\n",
    "\n",
    "System.out.println(\"Pemasukan Restoran: Rp.\" + totalPemasukan);\n",
    "}\n",
    "\n",
    "static void porsiPenjualanTiapMenu() {\n",
    "int totalPorsiNasigoreng = 0;\n",
    "int totalPorsiSoto = 0;\n",
    "int totalPorsiSate = 0;\n",
    "\n",
    "for (int baris = 0; baris < penjualan.length; baris++) {\n",
    "  for (int kolom = 0; kolom < penjualan[baris].length; kolom++) {\n",
    "    switch (baris) {\n",
    "      case 0 -> totalPorsiNasigoreng += penjualan[baris][kolom];\n",
    "      case 1 -> totalPorsiSoto += penjualan[baris][kolom];\n",
    "      case 2 -> totalPorsiSate += penjualan[baris][kolom];\n",
    "    }\n",
    "  }\n",
    "}\n",
    "\n",
    "System.out.println(\"Porsi penjualan Nasi Goreng: \" + totalPorsiNasigoreng);\n",
    "System.out.println(\"Porsi penjualan Soto: \" + totalPorsiSoto);\n",
    "System.out.println(\"Porsi penjualan Sate: \" + totalPorsiSate);\n",
    "}\n",
    "\n",
    "menuFavSelasaJumat();\n",
    "System.out.println(\"----------------\");\n",
    "pemasukanRestoran();\n",
    "System.out.println(\"----------------\");\n",
    "porsiPenjualanTiapMenu();"
   ]
  },
  {
   "cell_type": "markdown",
   "metadata": {},
   "source": [
    "Penjelasan :\n",
    "\n",
    "- Terdapat tiga fungsi, yaitu fungssi **menuFavSelasaJumat**, **pemasukanRestoran** dan fungsi **porsiPenjualanTiapMenu**.\n",
    "- Alur program :\n",
    "- Masukkan menu favorit di hari selasa dengan menyeleksi penjualan terbanyak di hari selasa.\n",
    "- kemudian masukkan menu favorite di hari jumat yaitu nasi goreng, sama dengan sebelumnya juga menyeleksi penjualan terbanyak di hari jumat.\n",
    "- Kemudian menampilkan \n",
    "**System.out.println(\"Menu favorit di Selasa: \" + namaMenu[barisFavDiSelasa]);\n",
    "System.out.println(\"Menu favorit di Jumat: \" + namaMenu[barisFavDiJumat]);**\n",
    "- Setelah itu akan muncul Pemasukkan restoran, yaitu total porsi yang ada di dalam array penjualan di kalikan dengan harga setiap menu nya. itu di kalikan semua dari hari senin sampai jumat. Kemudian dijumlahkan menjadi satu.\n",
    "- Kemudian hasil pemasukkan di tampilkan.\n",
    "- Kemudian memunculkan jumlah total porsi setiap menu nya. Dari hari senin - jumat.\n",
    "- Kemudian jumlah porsi tiap menu ditampilkan (output)."
   ]
  }
 ],
 "metadata": {
  "kernelspec": {
   "display_name": "Java",
   "language": "java",
   "name": "java"
  },
  "language_info": {
   "codemirror_mode": "java",
   "file_extension": ".jshell",
   "mimetype": "text/x-java-source",
   "name": "Java",
   "pygments_lexer": "java",
   "version": "16.0.2+7-67"
  }
 },
 "nbformat": 4,
 "nbformat_minor": 4
}
